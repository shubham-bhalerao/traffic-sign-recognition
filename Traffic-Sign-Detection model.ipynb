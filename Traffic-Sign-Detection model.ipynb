{
 "cells": [
  {
   "cell_type": "code",
   "execution_count": 2,
   "metadata": {},
   "outputs": [],
   "source": [
    "import numpy as np \n",
    "import pandas as pd \n",
    "import matplotlib.pyplot as plt\n",
    "import tensorflow as tf\n",
    "from PIL import Image\n",
    "import os\n",
    "from sklearn.model_selection import train_test_split\n",
    "from sklearn.metrics import accuracy_score\n",
    "from keras.utils import to_categorical\n",
    "from keras.models import Sequential, load_model\n",
    "from keras.layers import Conv2D, MaxPool2D, Dense, Flatten, Dropout"
   ]
  },
  {
   "cell_type": "code",
   "execution_count": 3,
   "metadata": {},
   "outputs": [],
   "source": [
    "data = []\n",
    "labels = []\n",
    "classes = 43 # predefined\n",
    "cur_path = os.getcwd()\n",
    "# print(cur_path)"
   ]
  },
  {
   "cell_type": "code",
   "execution_count": 5,
   "metadata": {},
   "outputs": [],
   "source": [
    "#Getting images and labels \n",
    "for i in range(classes):\n",
    "    path = os.path.join(cur_path,'Dataset/Train',str(i)) #Each class folder is it's class number\n",
    "    images = os.listdir(path)\n",
    "\n",
    "    for img in images:\n",
    "        try:\n",
    "            image = Image.open(path + '\\\\'+ img)\n",
    "            image = image.resize((30,30))\n",
    "            image = np.array(image)\n",
    "            data.append(image)\n",
    "            labels.append(i)\n",
    "        except:\n",
    "            print(\"Error loading image\")"
   ]
  },
  {
   "cell_type": "code",
   "execution_count": 6,
   "metadata": {},
   "outputs": [],
   "source": [
    "#Converting data/label into numpy arrays\n",
    "data = np.array(data)\n",
    "labels = np.array(labels)"
   ]
  },
  {
   "cell_type": "code",
   "execution_count": 9,
   "metadata": {},
   "outputs": [
    {
     "name": "stdout",
     "output_type": "stream",
     "text": [
      "(39209, 30, 30, 3) (39209,)\n"
     ]
    }
   ],
   "source": [
    "print(data.shape, labels.shape)"
   ]
  },
  {
   "cell_type": "markdown",
   "metadata": {},
   "source": [
    "Number of images: 39209 <br>\n",
    "Size of images: 30x30<br>\n",
    "Channels in each image: 3 (RGB)"
   ]
  },
  {
   "cell_type": "code",
   "execution_count": 10,
   "metadata": {},
   "outputs": [
    {
     "name": "stdout",
     "output_type": "stream",
     "text": [
      "(31367, 30, 30, 3) (7842, 30, 30, 3) (31367,) (7842,)\n"
     ]
    }
   ],
   "source": [
    "#80-20 split(train and test) of dataset\n",
    "X_train, X_test, y_train, y_test = train_test_split(data, labels, test_size=0.2, random_state=42)\n",
    "print(X_train.shape, X_test.shape, y_train.shape, y_test.shape)"
   ]
  },
  {
   "cell_type": "code",
   "execution_count": 11,
   "metadata": {},
   "outputs": [],
   "source": [
    "#One hot encoding of labels\n",
    "y_train = to_categorical(y_train, 43) #43 classes\n",
    "y_test = to_categorical(y_test, 43)"
   ]
  },
  {
   "cell_type": "code",
   "execution_count": 12,
   "metadata": {},
   "outputs": [],
   "source": [
    "#Building the model\n",
    "model = Sequential()\n",
    "model.add(Conv2D(filters=32, kernel_size=(5,5), activation='relu', input_shape=X_train.shape[1:]))\n",
    "model.add(Conv2D(filters=32, kernel_size=(5,5), activation='relu'))\n",
    "model.add(MaxPool2D(pool_size=(2, 2)))\n",
    "model.add(Dropout(rate=0.10))\n",
    "model.add(Conv2D(filters=64, kernel_size=(3, 3), activation='relu'))\n",
    "model.add(Conv2D(filters=64, kernel_size=(3, 3), activation='relu'))\n",
    "model.add(MaxPool2D(pool_size=(2, 2)))\n",
    "model.add(Dropout(rate=0.5))\n",
    "model.add(Flatten())\n",
    "model.add(Dense(256, activation='relu'))\n",
    "model.add(Dropout(rate=0.5))\n",
    "model.add(Dense(43, activation='softmax'))"
   ]
  },
  {
   "cell_type": "code",
   "execution_count": 15,
   "metadata": {},
   "outputs": [
    {
     "name": "stdout",
     "output_type": "stream",
     "text": [
      "Model: \"sequential\"\n",
      "_________________________________________________________________\n",
      "Layer (type)                 Output Shape              Param #   \n",
      "=================================================================\n",
      "conv2d (Conv2D)              (None, 26, 26, 32)        2432      \n",
      "_________________________________________________________________\n",
      "conv2d_1 (Conv2D)            (None, 22, 22, 32)        25632     \n",
      "_________________________________________________________________\n",
      "max_pooling2d (MaxPooling2D) (None, 11, 11, 32)        0         \n",
      "_________________________________________________________________\n",
      "dropout (Dropout)            (None, 11, 11, 32)        0         \n",
      "_________________________________________________________________\n",
      "conv2d_2 (Conv2D)            (None, 9, 9, 64)          18496     \n",
      "_________________________________________________________________\n",
      "conv2d_3 (Conv2D)            (None, 7, 7, 64)          36928     \n",
      "_________________________________________________________________\n",
      "max_pooling2d_1 (MaxPooling2 (None, 3, 3, 64)          0         \n",
      "_________________________________________________________________\n",
      "dropout_1 (Dropout)          (None, 3, 3, 64)          0         \n",
      "_________________________________________________________________\n",
      "flatten (Flatten)            (None, 576)               0         \n",
      "_________________________________________________________________\n",
      "dense (Dense)                (None, 256)               147712    \n",
      "_________________________________________________________________\n",
      "dropout_2 (Dropout)          (None, 256)               0         \n",
      "_________________________________________________________________\n",
      "dense_1 (Dense)              (None, 43)                11051     \n",
      "=================================================================\n",
      "Total params: 242,251\n",
      "Trainable params: 242,251\n",
      "Non-trainable params: 0\n",
      "_________________________________________________________________\n"
     ]
    }
   ],
   "source": [
    "model.summary()"
   ]
  },
  {
   "cell_type": "code",
   "execution_count": 16,
   "metadata": {},
   "outputs": [],
   "source": [
    "#Compilation of the model\n",
    "model.compile(loss='categorical_crossentropy', optimizer='adam', metrics=['accuracy'])"
   ]
  },
  {
   "cell_type": "code",
   "execution_count": 17,
   "metadata": {},
   "outputs": [
    {
     "name": "stdout",
     "output_type": "stream",
     "text": [
      "Epoch 1/15\n",
      "491/491 [==============================] - 67s 137ms/step - loss: 2.3370 - accuracy: 0.4203 - val_loss: 0.6120 - val_accuracy: 0.8488\n",
      "Epoch 2/15\n",
      "491/491 [==============================] - 73s 150ms/step - loss: 0.9406 - accuracy: 0.7364 - val_loss: 0.3591 - val_accuracy: 0.9008\n",
      "Epoch 3/15\n",
      "491/491 [==============================] - 72s 147ms/step - loss: 0.6823 - accuracy: 0.8016 - val_loss: 0.2843 - val_accuracy: 0.9239\n",
      "Epoch 4/15\n",
      "491/491 [==============================] - 74s 150ms/step - loss: 0.5570 - accuracy: 0.8350 - val_loss: 0.1965 - val_accuracy: 0.9448\n",
      "Epoch 5/15\n",
      "491/491 [==============================] - 71s 145ms/step - loss: 0.4828 - accuracy: 0.8572 - val_loss: 0.1889 - val_accuracy: 0.9484\n",
      "Epoch 6/15\n",
      "491/491 [==============================] - 74s 151ms/step - loss: 0.4441 - accuracy: 0.8688 - val_loss: 0.1505 - val_accuracy: 0.9597\n",
      "Epoch 7/15\n",
      "491/491 [==============================] - 76s 154ms/step - loss: 0.3920 - accuracy: 0.8824 - val_loss: 0.1256 - val_accuracy: 0.9666\n",
      "Epoch 8/15\n",
      "491/491 [==============================] - 77s 158ms/step - loss: 0.3919 - accuracy: 0.8840 - val_loss: 0.1120 - val_accuracy: 0.9726\n",
      "Epoch 9/15\n",
      "491/491 [==============================] - 84s 172ms/step - loss: 0.3685 - accuracy: 0.8920 - val_loss: 0.1279 - val_accuracy: 0.9660\n",
      "Epoch 10/15\n",
      "491/491 [==============================] - 101s 205ms/step - loss: 0.3512 - accuracy: 0.8967 - val_loss: 0.1132 - val_accuracy: 0.9721\n",
      "Epoch 11/15\n",
      "491/491 [==============================] - 80s 162ms/step - loss: 0.3302 - accuracy: 0.9011 - val_loss: 0.1053 - val_accuracy: 0.9744\n",
      "Epoch 12/15\n",
      "491/491 [==============================] - 74s 150ms/step - loss: 0.3183 - accuracy: 0.9049 - val_loss: 0.1085 - val_accuracy: 0.9712\n",
      "Epoch 13/15\n",
      "491/491 [==============================] - 75s 154ms/step - loss: 0.3070 - accuracy: 0.9096 - val_loss: 0.1070 - val_accuracy: 0.9713\n",
      "Epoch 14/15\n",
      "491/491 [==============================] - 76s 154ms/step - loss: 0.3110 - accuracy: 0.9090 - val_loss: 0.0859 - val_accuracy: 0.9788\n",
      "Epoch 15/15\n",
      "491/491 [==============================] - 77s 157ms/step - loss: 0.2817 - accuracy: 0.9152 - val_loss: 0.0887 - val_accuracy: 0.9739\n"
     ]
    }
   ],
   "source": [
    "epochs = 15\n",
    "history=model.fit(X_train, y_train, batch_size=64, epochs=epochs, validation_data=(X_test, y_test))"
   ]
  },
  {
   "cell_type": "code",
   "execution_count": 27,
   "metadata": {},
   "outputs": [
    {
     "name": "stdout",
     "output_type": "stream",
     "text": [
      "{'loss': [2.3369932174682617, 0.9405860304832458, 0.6823348999023438, 0.5569834113121033, 0.4827702045440674, 0.44412949681282043, 0.3920170068740845, 0.39189738035202026, 0.36851102113723755, 0.35117000341415405, 0.33016353845596313, 0.31833645701408386, 0.3070366084575653, 0.31096598505973816, 0.28168627619743347], 'accuracy': [0.42031434178352356, 0.7364427447319031, 0.8016067743301392, 0.8350176811218262, 0.8572384715080261, 0.8688430786132812, 0.8823604583740234, 0.8839863538742065, 0.8919883966445923, 0.896738588809967, 0.9011062383651733, 0.904900074005127, 0.909586489200592, 0.9090445637702942, 0.9151656031608582], 'val_loss': [0.6119849681854248, 0.35909488797187805, 0.28428319096565247, 0.19653400778770447, 0.1888669729232788, 0.15053176879882812, 0.12564435601234436, 0.11199486255645752, 0.12787185609340668, 0.11324545741081238, 0.1052795872092247, 0.10851621627807617, 0.10699890553951263, 0.08593972027301788, 0.0887444019317627], 'val_accuracy': [0.8487630486488342, 0.9007906317710876, 0.9238714575767517, 0.9447845220565796, 0.9483550190925598, 0.9597041606903076, 0.966590166091919, 0.972583532333374, 0.9659525752067566, 0.9720734357833862, 0.9743688106536865, 0.97118079662323, 0.9713083505630493, 0.978831946849823, 0.9738587141036987]}\n"
     ]
    },
    {
     "data": {
      "image/png": "[encoded data removed]",
      "text/plain": [
       "<Figure size 432x288 with 1 Axes>"
      ]
     },
     "metadata": {
      "needs_background": "light"
     },
     "output_type": "display_data"
    }
   ],
   "source": [
    "plt.plot(history.history['accuracy'], label='train accuracy')\n",
    "plt.plot(history.history['val_accuracy'], label='val accuracy')\n",
    "plt.title('Accuracy')\n",
    "plt.xlabel('epochs')\n",
    "plt.ylabel('accuracy')\n",
    "plt.legend()\n",
    "plt.show()"
   ]
  },
  {
   "cell_type": "code",
   "execution_count": 19,
   "metadata": {},
   "outputs": [
    {
     "data": {
      "image/png": "[encoded data removed]",
      "text/plain": [
       "<Figure size 432x288 with 1 Axes>"
      ]
     },
     "metadata": {
      "needs_background": "light"
     },
     "output_type": "display_data"
    }
   ],
   "source": [
    "plt.plot(history.history['loss'], label='training loss')\n",
    "plt.plot(history.history['val_loss'], label='val loss')\n",
    "plt.title('Loss')\n",
    "plt.xlabel('epochs')\n",
    "plt.ylabel('loss')\n",
    "plt.legend()\n",
    "plt.show()"
   ]
  },
  {
   "cell_type": "code",
   "execution_count": 18,
   "metadata": {},
   "outputs": [],
   "source": [
    "# model.save(\"traffic_sign_detector_model.h5\") save as h5 file"
   ]
  },
  {
   "cell_type": "code",
   "execution_count": 23,
   "metadata": {},
   "outputs": [],
   "source": [
    "#testing accuracy on test dataset\n",
    "y_test = pd.read_csv('Test.csv') #csv file contains test images path and class labels\n",
    "\n",
    "labels = y_test[\"ClassId\"].values\n",
    "images = y_test[\"Path\"].values\n",
    "\n",
    "data=[]\n",
    "\n",
    "for img in images:\n",
    "    image = Image.open(img)\n",
    "    image = image.resize((30,30))\n",
    "    data.append(np.array(image))\n",
    "\n",
    "X_test=np.array(data)"
   ]
  },
  {
   "cell_type": "code",
   "execution_count": 16,
   "metadata": {},
   "outputs": [],
   "source": [
    "# model=load_model(\"traffic_sign_detector_model.h5\")"
   ]
  },
  {
   "cell_type": "code",
   "execution_count": 24,
   "metadata": {},
   "outputs": [
    {
     "name": "stdout",
     "output_type": "stream",
     "text": [
      "WARNING:tensorflow:From <ipython-input-24-7fe9c02e351a>:1: Sequential.predict_classes (from tensorflow.python.keras.engine.sequential) is deprecated and will be removed after 2021-01-01.\n",
      "Instructions for updating:\n",
      "Please use instead:* `np.argmax(model.predict(x), axis=-1)`,   if your model does multi-class classification   (e.g. if it uses a `softmax` last-layer activation).* `(model.predict(x) > 0.5).astype(\"int32\")`,   if your model does binary classification   (e.g. if it uses a `sigmoid` last-layer activation).\n",
      "0.9360253365003959\n"
     ]
    }
   ],
   "source": [
    "pred = model.predict_classes(X_test)\n",
    "#Comparing with ground truth to get accuracy\n",
    "print(accuracy_score(labels, pred))"
   ]
  }
 ],
 "metadata": {
  "kernelspec": {
   "display_name": "Python 3",
   "language": "python",
   "name": "python3"
  },
  "language_info": {
   "codemirror_mode": {
    "name": "ipython",
    "version": 3
   },
   "file_extension": ".py",
   "mimetype": "text/x-python",
   "name": "python",
   "nbconvert_exporter": "python",
   "pygments_lexer": "ipython3",
   "version": "3.7.6"
  }
 },
 "nbformat": 4,
 "nbformat_minor": 4
}
